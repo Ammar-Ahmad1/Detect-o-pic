{
 "cells": [
  {
   "cell_type": "code",
   "execution_count": null,
   "metadata": {},
   "outputs": [],
   "source": []
  },
  {
   "cell_type": "code",
   "execution_count": 1,
   "metadata": {},
   "outputs": [
    {
     "name": "stdout",
     "output_type": "stream",
     "text": [
      " * Serving Flask app '__main__'\n",
      " * Debug mode: off\n"
     ]
    },
    {
     "name": "stderr",
     "output_type": "stream",
     "text": [
      "WARNING: This is a development server. Do not use it in a production deployment. Use a production WSGI server instead.\n",
      " * Running on all addresses (0.0.0.0)\n",
      " * Running on http://127.0.0.1:5000\n",
      " * Running on http://192.168.1.7:5000\n",
      "Press CTRL+C to quit\n"
     ]
    },
    {
     "name": "stdout",
     "output_type": "stream",
     "text": [
      "1/1 [==============================] - 1s 723ms/step\n"
     ]
    },
    {
     "name": "stderr",
     "output_type": "stream",
     "text": [
      "127.0.0.1 - - [13/May/2023 19:30:25] \"POST /process-image1 HTTP/1.1\" 200 -\n"
     ]
    },
    {
     "name": "stdout",
     "output_type": "stream",
     "text": [
      "1/1 [==============================] - 0s 40ms/step\n"
     ]
    },
    {
     "name": "stderr",
     "output_type": "stream",
     "text": [
      "192.168.1.5 - - [13/May/2023 19:41:24] \"POST /process-image1 HTTP/1.1\" 200 -\n"
     ]
    },
    {
     "name": "stdout",
     "output_type": "stream",
     "text": [
      "1/1 [==============================] - 0s 42ms/step\n"
     ]
    },
    {
     "name": "stderr",
     "output_type": "stream",
     "text": [
      "192.168.1.5 - - [13/May/2023 19:46:10] \"POST /process-image1 HTTP/1.1\" 200 -\n"
     ]
    },
    {
     "name": "stdout",
     "output_type": "stream",
     "text": [
      "1/1 [==============================] - 0s 42ms/step\n"
     ]
    },
    {
     "name": "stderr",
     "output_type": "stream",
     "text": [
      "192.168.1.5 - - [13/May/2023 19:46:24] \"POST /process-image1 HTTP/1.1\" 200 -\n"
     ]
    },
    {
     "name": "stdout",
     "output_type": "stream",
     "text": [
      "1/1 [==============================] - 0s 41ms/step\n"
     ]
    },
    {
     "name": "stderr",
     "output_type": "stream",
     "text": [
      "192.168.1.5 - - [13/May/2023 19:46:57] \"POST /process-image1 HTTP/1.1\" 200 -\n"
     ]
    },
    {
     "name": "stdout",
     "output_type": "stream",
     "text": [
      "1/1 [==============================] - 0s 40ms/step\n"
     ]
    },
    {
     "name": "stderr",
     "output_type": "stream",
     "text": [
      "192.168.1.5 - - [13/May/2023 19:48:32] \"POST /process-image1 HTTP/1.1\" 200 -\n"
     ]
    }
   ],
   "source": [
    "from flask import Flask, request, send_file, jsonify\n",
    "import base64\n",
    "from PIL import Image\n",
    "import io\n",
    "import numpy as np\n",
    "import cv2\n",
    "import tensorflow as tf\n",
    "app = Flask(__name__)\n",
    "# Edge detection function using Canny edge detection\n",
    "model = tf.keras.applications.MobileNetV2(weights='imagenet')\n",
    "def detect_edges(img):\n",
    "    edges = cv2.Canny(img, 100, 200)\n",
    "    return edges\n",
    "\n",
    "# Feature detection and extraction function using ORB algorithm\n",
    "def detect_features(img):\n",
    "    orb = cv2.ORB_create(nfeatures=1000)\n",
    "    keypoints, descriptors = orb.detectAndCompute(img, None)\n",
    "    img_with_keypoints = cv2.drawKeypoints(img, keypoints, None)\n",
    "    return img_with_keypoints\n",
    "\n",
    "def process_image(image):\n",
    "    # Add your image processing functions here\n",
    "    # For example, you could convert the image to grayscale and invert the colors\n",
    "    image = Image.fromarray(image).convert('L')\n",
    "    image = np.array(image)\n",
    "    image = 255 - image\n",
    "    return image\n",
    "@app.route('/upload', methods=['POST'])\n",
    "def upload_image():\n",
    "    # receive the base64-encoded image from the client\n",
    "    image_data = request.json['image']\n",
    "    \n",
    "    # convert the image back to a file\n",
    "    with open('image.jpg', 'wb') as f:\n",
    "        f.write(base64.b64decode(image_data))\n",
    "    \n",
    "    #save image and return image in response \n",
    "    \n",
    "\n",
    "    return send_file('image.jpg', mimetype='image/jpg')\n",
    "@app.route('/process-image1', methods=['POST'])\n",
    "def process_image_route():\n",
    "    image_file = request.files.get('image')\n",
    "    image = cv2.imdecode(np.frombuffer(image_file.read(), np.uint8), cv2.IMREAD_COLOR)\n",
    "\n",
    "    # Process the image\n",
    "    image1 = process_image(image)\n",
    "    image1 = detect_edges(image1)\n",
    "    \n",
    "    # Preprocess the image for object detection\n",
    "    image = cv2.cvtColor(image, cv2.COLOR_BGR2RGB)\n",
    "    image = tf.image.resize(image, (224, 224))\n",
    "    image = tf.expand_dims(image, 0)\n",
    "    image = tf.keras.applications.mobilenet_v2.preprocess_input(image)\n",
    "\n",
    "    # Predict objects in the image\n",
    "    predictions = model.predict(image)\n",
    "    decoded_predictions = tf.keras.applications.mobilenet_v2.decode_predictions(predictions, top=5)[0]\n",
    "\n",
    "    # Extract the top predicted label and confidence\n",
    "    top_label = decoded_predictions[0][1]\n",
    "    top_confidence = decoded_predictions[0][2]\n",
    "\n",
    "    # Convert the segmented image to a numpy array\n",
    "    ret, jpeg = cv2.imencode('.jpg', image1)\n",
    "    encoded_image = jpeg.tobytes()\n",
    "\n",
    "    # Create a response JSON object\n",
    "    response = {\n",
    "        'label': top_label,\n",
    "        'confidence': float(top_confidence),\n",
    "        'image': base64.b64encode(encoded_image).decode('utf-8')\n",
    "    }\n",
    "\n",
    "    # Return the response as JSON\n",
    "    return jsonify(response)\n",
    "\n",
    "    # Return the encoded image as a response\n",
    "    # return Response(encoded_image, mimetype='image/jpeg')\n",
    "if __name__ == '__main__':\n",
    "    #run app in debug mode on port 5000\n",
    "    app.run(host='0.0.0.0', port=5000)\n",
    "    \n"
   ]
  },
  {
   "cell_type": "code",
   "execution_count": 2,
   "metadata": {},
   "outputs": [
    {
     "ename": "error",
     "evalue": "OpenCV(4.7.0) D:\\a\\opencv-python\\opencv-python\\opencv\\modules\\highgui\\src\\window.cpp:1272: error: (-2:Unspecified error) The function is not implemented. Rebuild the library with Windows, GTK+ 2.x or Cocoa support. If you are on Ubuntu or Debian, install libgtk2.0-dev and pkg-config, then re-run cmake or configure script in function 'cvShowImage'\n",
     "output_type": "error",
     "traceback": [
      "\u001b[1;31m---------------------------------------------------------------------------\u001b[0m",
      "\u001b[1;31merror\u001b[0m                                     Traceback (most recent call last)",
      "\u001b[1;32md:\\Detect-o-Pic\\objectDetection.ipynb Cell 3\u001b[0m in \u001b[0;36m<cell line: 25>\u001b[1;34m()\u001b[0m\n\u001b[0;32m     <a href='vscode-notebook-cell:/d%3A/Detect-o-Pic/objectDetection.ipynb#W1sZmlsZQ%3D%3D?line=21'>22</a>\u001b[0m img_with_keypoints \u001b[39m=\u001b[39m detect_features(img)\n\u001b[0;32m     <a href='vscode-notebook-cell:/d%3A/Detect-o-Pic/objectDetection.ipynb#W1sZmlsZQ%3D%3D?line=23'>24</a>\u001b[0m \u001b[39m# Save the edited images\u001b[39;00m\n\u001b[1;32m---> <a href='vscode-notebook-cell:/d%3A/Detect-o-Pic/objectDetection.ipynb#W1sZmlsZQ%3D%3D?line=24'>25</a>\u001b[0m cv2\u001b[39m.\u001b[39;49mimshow(\u001b[39m'\u001b[39;49m\u001b[39medges.jpg\u001b[39;49m\u001b[39m'\u001b[39;49m, edges)\n\u001b[0;32m     <a href='vscode-notebook-cell:/d%3A/Detect-o-Pic/objectDetection.ipynb#W1sZmlsZQ%3D%3D?line=25'>26</a>\u001b[0m cv2\u001b[39m.\u001b[39mimshow(\u001b[39m'\u001b[39m\u001b[39mfeatures.jpg\u001b[39m\u001b[39m'\u001b[39m, img_with_keypoints)\n\u001b[0;32m     <a href='vscode-notebook-cell:/d%3A/Detect-o-Pic/objectDetection.ipynb#W1sZmlsZQ%3D%3D?line=26'>27</a>\u001b[0m cv2\u001b[39m.\u001b[39mwaitKey(\u001b[39m0\u001b[39m)\n",
      "\u001b[1;31merror\u001b[0m: OpenCV(4.7.0) D:\\a\\opencv-python\\opencv-python\\opencv\\modules\\highgui\\src\\window.cpp:1272: error: (-2:Unspecified error) The function is not implemented. Rebuild the library with Windows, GTK+ 2.x or Cocoa support. If you are on Ubuntu or Debian, install libgtk2.0-dev and pkg-config, then re-run cmake or configure script in function 'cvShowImage'\n"
     ]
    }
   ],
   "source": [
    "import cv2\n",
    "\n",
    "# Edge detection function using Canny edge detection\n",
    "def detect_edges(img):\n",
    "    edges = cv2.Canny(img, 100, 200)\n",
    "    return edges\n",
    "\n",
    "# Feature detection and extraction function using ORB algorithm\n",
    "def detect_features(img):\n",
    "    orb = cv2.ORB_create(nfeatures=1000)\n",
    "    keypoints, descriptors = orb.detectAndCompute(img, None)\n",
    "    img_with_keypoints = cv2.drawKeypoints(img, keypoints, None)\n",
    "    return img_with_keypoints\n",
    "\n",
    "# Load the image\n",
    "img = cv2.imread('image.jpg')\n",
    "\n",
    "# Detect edges in the image\n",
    "edges = detect_edges(img)\n",
    "\n",
    "# Detect features in the image\n",
    "img_with_keypoints = detect_features(img)\n",
    "\n",
    "# Save the edited images\n",
    "cv2.imshow('edges.jpg', edges)\n",
    "cv2.imshow('features.jpg', img_with_keypoints)\n",
    "cv2.waitKey(0)\n",
    "cv2.destroyAllWindows()"
   ]
  }
 ],
 "metadata": {
  "kernelspec": {
   "display_name": "base",
   "language": "python",
   "name": "python3"
  },
  "language_info": {
   "codemirror_mode": {
    "name": "ipython",
    "version": 3
   },
   "file_extension": ".py",
   "mimetype": "text/x-python",
   "name": "python",
   "nbconvert_exporter": "python",
   "pygments_lexer": "ipython3",
   "version": "3.10.11"
  },
  "orig_nbformat": 4
 },
 "nbformat": 4,
 "nbformat_minor": 2
}
