{
 "cells": [
  {
   "cell_type": "code",
   "execution_count": 9,
   "metadata": {},
   "outputs": [
    {
     "name": "stdout",
     "output_type": "stream",
     "text": [
      " * Serving Flask app \"__main__\" (lazy loading)\n",
      " * Environment: production\n",
      "\u001b[31m   WARNING: This is a development server. Do not use it in a production deployment.\u001b[0m\n",
      "\u001b[2m   Use a production WSGI server instead.\u001b[0m\n",
      " * Debug mode: off\n"
     ]
    },
    {
     "name": "stderr",
     "output_type": "stream",
     "text": [
      " * Running on all addresses.\n",
      "   WARNING: This is a development server. Do not use it in a production deployment.\n",
      " * Running on http://192.168.1.16:5000/ (Press CTRL+C to quit)\n",
      "192.168.1.11 - - [06/May/2023 00:40:45] \"POST /process-image1 HTTP/1.1\" 200 -\n"
     ]
    }
   ],
   "source": [
    "from flask import Flask, request, send_file, jsonify\n",
    "import base64\n",
    "from PIL import Image\n",
    "import io\n",
    "import numpy as np\n",
    "import cv2\n",
    "app = Flask(__name__)\n",
    "# Edge detection function using Canny edge detection\n",
    "def detect_edges(img):\n",
    "    edges = cv2.Canny(img, 100, 200)\n",
    "    return edges\n",
    "\n",
    "# Feature detection and extraction function using ORB algorithm\n",
    "def detect_features(img):\n",
    "    orb = cv2.ORB_create(nfeatures=1000)\n",
    "    keypoints, descriptors = orb.detectAndCompute(img, None)\n",
    "    img_with_keypoints = cv2.drawKeypoints(img, keypoints, None)\n",
    "    return img_with_keypoints\n",
    "\n",
    "def process_image(image):\n",
    "    # Add your image processing functions here\n",
    "    # For example, you could convert the image to grayscale and invert the colors\n",
    "    image = Image.fromarray(image).convert('L')\n",
    "    image = np.array(image)\n",
    "    image = 255 - image\n",
    "    return image\n",
    "@app.route('/upload', methods=['POST'])\n",
    "def upload_image():\n",
    "    # receive the base64-encoded image from the client\n",
    "    image_data = request.json['image']\n",
    "    \n",
    "    # convert the image back to a file\n",
    "    with open('image.jpg', 'wb') as f:\n",
    "        f.write(base64.b64decode(image_data))\n",
    "    \n",
    "    #save image and return image in response \n",
    "    \n",
    "\n",
    "    return send_file('image.jpg', mimetype='image/jpg')\n",
    "@app.route('/process-image1', methods=['POST'])\n",
    "def process_image_route():\n",
    "    image_file = request.files.get('image')\n",
    "    image = cv2.imdecode(np.frombuffer(image_file.read(), np.uint8), cv2.IMREAD_COLOR)\n",
    "    # Process the image\n",
    "    # detect objects in the image using DIP techniques and concepts\n",
    "    #edit image\n",
    "    image = process_image(image)\n",
    "    image = detect_edges(image)\n",
    "    \n",
    "    ret, jpeg = cv2.imencode('.jpg', image)\n",
    "    encoded_image = jpeg.tobytes()\n",
    "    return send_file(io.BytesIO(encoded_image), mimetype='image/jpeg')\n",
    "    # Return the encoded image as a response\n",
    "    # return Response(encoded_image, mimetype='image/jpeg')\n",
    "if __name__ == '__main__':\n",
    "    #run app in debug mode on port 5000\n",
    "    if(app.run(host='0.0.0.0', port=5000)):\n",
    "        print(\"running\")\n",
    "    \n"
   ]
  },
  {
   "cell_type": "code",
   "execution_count": 7,
   "metadata": {},
   "outputs": [],
   "source": [
    "import cv2\n",
    "\n",
    "# Edge detection function using Canny edge detection\n",
    "def detect_edges(img):\n",
    "    edges = cv2.Canny(img, 100, 200)\n",
    "    return edges\n",
    "\n",
    "# Feature detection and extraction function using ORB algorithm\n",
    "def detect_features(img):\n",
    "    orb = cv2.ORB_create(nfeatures=1000)\n",
    "    keypoints, descriptors = orb.detectAndCompute(img, None)\n",
    "    img_with_keypoints = cv2.drawKeypoints(img, keypoints, None)\n",
    "    return img_with_keypoints\n",
    "\n",
    "# Load the image\n",
    "img = cv2.imread('image.jpg')\n",
    "\n",
    "# Detect edges in the image\n",
    "edges = detect_edges(img)\n",
    "\n",
    "# Detect features in the image\n",
    "img_with_keypoints = detect_features(img)\n",
    "\n",
    "# Save the edited images\n",
    "cv2.imshow('edges.jpg', edges)\n",
    "cv2.imshow('features.jpg', img_with_keypoints)\n",
    "cv2.waitKey(0)\n",
    "cv2.destroyAllWindows()"
   ]
  }
 ],
 "metadata": {
  "kernelspec": {
   "display_name": "base",
   "language": "python",
   "name": "python3"
  },
  "language_info": {
   "codemirror_mode": {
    "name": "ipython",
    "version": 3
   },
   "file_extension": ".py",
   "mimetype": "text/x-python",
   "name": "python",
   "nbconvert_exporter": "python",
   "pygments_lexer": "ipython3",
   "version": "3.9.12"
  },
  "orig_nbformat": 4
 },
 "nbformat": 4,
 "nbformat_minor": 2
}
