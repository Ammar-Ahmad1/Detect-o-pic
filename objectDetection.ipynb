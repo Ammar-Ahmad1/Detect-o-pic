{
 "cells": [
  {
   "cell_type": "code",
   "execution_count": 17,
   "metadata": {},
   "outputs": [
    {
     "name": "stdout",
     "output_type": "stream",
     "text": [
      " * Serving Flask app \"__main__\" (lazy loading)\n",
      " * Environment: production\n",
      "\u001b[31m   WARNING: This is a development server. Do not use it in a production deployment.\u001b[0m\n",
      "\u001b[2m   Use a production WSGI server instead.\u001b[0m\n",
      " * Debug mode: off\n"
     ]
    },
    {
     "name": "stderr",
     "output_type": "stream",
     "text": [
      " * Running on http://127.0.0.1:5000/ (Press CTRL+C to quit)\n",
      "127.0.0.1 - - [30/Apr/2023 01:45:36] \"POST /process-image1 HTTP/1.1\" 200 -\n"
     ]
    }
   ],
   "source": [
    "from flask import Flask, request, send_file\n",
    "from PIL import Image\n",
    "import io\n",
    "import numpy as np\n",
    "import cv2\n",
    "app = Flask(__name__)\n",
    "\n",
    "def process_image(image):\n",
    "    # Add your image processing functions here\n",
    "    # For example, you could convert the image to grayscale and invert the colors\n",
    "    image = Image.fromarray(image).convert('L')\n",
    "    image = np.array(image)\n",
    "    image = 255 - image\n",
    "    return image\n",
    "\n",
    "@app.route('/process-image1', methods=['POST'])\n",
    "def process_image_route():\n",
    "    image_file = request.files.get('image')\n",
    "    image = cv2.imdecode(np.frombuffer(image_file.read(), np.uint8), cv2.IMREAD_COLOR)\n",
    "    # Process the image\n",
    "    # detect objects in the image using DIP techniques and concepts\n",
    "    ret, jpeg = cv2.imencode('.jpg', image)\n",
    "    encoded_image = jpeg.tobytes()\n",
    "    return send_file(io.BytesIO(encoded_image), mimetype='image/jpeg')\n",
    "    # Return the encoded image as a response\n",
    "    # return Response(encoded_image, mimetype='image/jpeg')\n",
    "if __name__ == '__main__':\n",
    "    #run app in debug mode on port 5000\n",
    "    if(app.run( port=5000)):\n",
    "        print(\"running\")\n",
    "    \n"
   ]
  }
 ],
 "metadata": {
  "kernelspec": {
   "display_name": "base",
   "language": "python",
   "name": "python3"
  },
  "language_info": {
   "codemirror_mode": {
    "name": "ipython",
    "version": 3
   },
   "file_extension": ".py",
   "mimetype": "text/x-python",
   "name": "python",
   "nbconvert_exporter": "python",
   "pygments_lexer": "ipython3",
   "version": "3.9.12"
  },
  "orig_nbformat": 4
 },
 "nbformat": 4,
 "nbformat_minor": 2
}
